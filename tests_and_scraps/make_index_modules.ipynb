{
 "cells": [
  {
   "cell_type": "code",
   "execution_count": 4,
   "metadata": {},
   "outputs": [],
   "source": [
    "import os\n",
    "import glob"
   ]
  },
  {
   "cell_type": "code",
   "execution_count": 41,
   "metadata": {},
   "outputs": [],
   "source": [
    "def create_index_dot_js(path_to_asset_folder):\n",
    "    files_in_path = list(set(glob.glob(os.path.join(path_to_asset_folder, '**/**/**.**'), recursive=True)))\n",
    "    with open(path_to_asset_folder+'index.js', 'w') as f:\n",
    "        lines = [f'module.exports = require(\"{file}\"); \\n' for file in files_in_path[1:]]\n",
    "        f.writelines(lines)\n",
    "\n",
    "def main(path_to_folder_of_folders):\n",
    "    folders_in_path = glob.glob(os.path.join(path_to_folder_of_folders, '**/**/**.**'), recursive=True)\n",
    "    for folder in folders_in_path:\n",
    "        create_index_dot_js(folder)"
   ]
  },
  {
   "cell_type": "code",
   "execution_count": 42,
   "metadata": {},
   "outputs": [],
   "source": [
    "create_index_dot_js(\"../app/assets/images/\")"
   ]
  },
  {
   "cell_type": "code",
   "execution_count": 40,
   "metadata": {},
   "outputs": [
    {
     "name": "stdout",
     "output_type": "stream",
     "text": [
      "['../app/assets/images/_8.png', '../app/assets/images/pairs/10/1.png', '../app/assets/images/maps/4.jpg', '../app/assets/images/pieces/1.png', '../app/assets/images/braque_3.jpg', '../app/assets/images/pairs/1/2.png', '../app/assets/images/pairs/3/2.png', '../app/assets/images/pairs/3/1.png', '../app/assets/images/maps/5.jpg', '../app/assets/images/buttons/play.png', '../app/assets/images/pairs/14/1.png', '../app/assets/images/pairs/5/1.png', '../app/assets/images/braque_3.png', '../app/assets/images/pairs/2/2.png', '../app/assets/images/maps/3.jpg', '../app/assets/images/pieces/2.png', '../app/assets/images/pairs/12/2.png', '../app/assets/images/images.js', '../app/assets/images/pairs/10/2.png', '../app/assets/images/maps/6.jpg', '../app/assets/images/pairs/15/2.png', '../app/assets/images/pollock_4.png', '../app/assets/images/buttons/pause.png', '../app/assets/images/giacometti_5.png', '../app/assets/images/pairs/13/1.png', '../app/assets/images/janco_7.png', '../app/assets/images/klimt_1.png', '../app/assets/images/pairs/8/1.png', '../app/assets/images/pairs/13/2.png', '../app/assets/images/pairs/15/1.png', '../app/assets/images/pairs/9/1.png', '../app/assets/images/maps/7.jpg', '../app/assets/images/pairs/6/2.png', '../app/assets/images/maps/1.jpg', '../app/assets/images/Sefi.png', '../app/assets/images/pairs/6/1.png', '../app/assets/images/maps/2.jpg', '../app/assets/images/pairs/7/1.png', '../app/assets/images/pieces/8.png', '../app/assets/images/felizia.png', '../app/assets/images/pairs/4/2.png', '../app/assets/images/vanDongen_2.png', '../app/assets/images/play.png', '../app/assets/images/pairs/2/1.png', '../app/assets/images/favicon.png', '../app/assets/images/pieces/4.png', '../app/assets/images/pairs/8/2.png', '../app/assets/images/pairs/9/2.png', '../app/assets/images/pairs/4/1.png', '../app/assets/images/pairs/11/1.png', '../app/assets/images/buttons/playpause_button.png', '../app/assets/images/buttons/camera.png', '../app/assets/images/splash.png', '../app/assets/images/pairs/1/1.png', '../app/assets/images/pieces/7.png', '../app/assets/images/pairs/5/2.png', '../app/assets/images/speaker.png', '../app/assets/images/pause.png', '../app/assets/images/deChirico_6.png', '../app/assets/images/pieces/6.png', '../app/assets/images/playpause_button.png', '../app/assets/images/adaptive-icon.png', '../app/assets/images/pieces/3.png', '../app/assets/images/pieces/5.png', '../app/assets/images/pairs/14/2.png', '../app/assets/images/pairs/12/1.png', '../app/assets/images/pairs/11/2.png', '../app/assets/images/pairs/7/2.png', '../app/assets/images/camera.png', '../app/assets/images/icon.png', '../app/assets/images/maps/8.jpg']\n"
     ]
    }
   ],
   "source": [
    "folders_in_path = list(set(glob.glob(os.path.join('../app/assets/images/', '**/**/**.**'), recursive=True)))\n",
    "print(folders_in_path)"
   ]
  }
 ],
 "metadata": {
  "kernelspec": {
   "display_name": "Python 3.6.9 64-bit",
   "language": "python",
   "name": "python3"
  },
  "language_info": {
   "codemirror_mode": {
    "name": "ipython",
    "version": 3
   },
   "file_extension": ".py",
   "mimetype": "text/x-python",
   "name": "python",
   "nbconvert_exporter": "python",
   "pygments_lexer": "ipython3",
   "version": "3.8.10"
  },
  "orig_nbformat": 4,
  "vscode": {
   "interpreter": {
    "hash": "31f2aee4e71d21fbe5cf8b01ff0e069b9275f58929596ceb00d14d90e3e16cd6"
   }
  }
 },
 "nbformat": 4,
 "nbformat_minor": 2
}
